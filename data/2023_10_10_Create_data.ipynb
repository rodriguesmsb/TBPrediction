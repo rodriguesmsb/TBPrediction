{
 "cells": [
  {
   "cell_type": "code",
   "execution_count": 1,
   "id": "afa016b7-2ecb-4637-8c44-fd4eea2ec93b",
   "metadata": {},
   "outputs": [],
   "source": [
    "import pandas as pd\n",
    "import numpy as np"
   ]
  },
  {
   "cell_type": "code",
   "execution_count": 2,
   "id": "eadc516c-79dc-4536-a068-f3a7a23d7abf",
   "metadata": {},
   "outputs": [
    {
     "name": "stderr",
     "output_type": "stream",
     "text": [
      "/tmp/ipykernel_36684/1854893339.py:1: DtypeWarning: Columns (0,1,2,4,6,7,8,10,12,14,16,18,19,20,21,22,23,24,25,26,27,28,29,30,32,34,36,37,38,43,44,46,47,49,52,53,54,55,56,57,58,59,60,61,63,64,65,66,67,68,69,70,71,72,73,74,75,76,78,79,80,81,82,83,84,85,86,87,90,91,92,93,94,95,96) have mixed types. Specify dtype option on import or set low_memory=False.\n",
      "  data = pd.read_csv(\"../data/2023_09_22_TUBE_BR.csv\")\n"
     ]
    },
    {
     "data": {
      "text/html": [
       "<div>\n",
       "<style scoped>\n",
       "    .dataframe tbody tr th:only-of-type {\n",
       "        vertical-align: middle;\n",
       "    }\n",
       "\n",
       "    .dataframe tbody tr th {\n",
       "        vertical-align: top;\n",
       "    }\n",
       "\n",
       "    .dataframe thead th {\n",
       "        text-align: right;\n",
       "    }\n",
       "</style>\n",
       "<table border=\"1\" class=\"dataframe\">\n",
       "  <thead>\n",
       "    <tr style=\"text-align: right;\">\n",
       "      <th></th>\n",
       "      <th>tp_not</th>\n",
       "      <th>id_agravo</th>\n",
       "      <th>dt_notific</th>\n",
       "      <th>nu_ano</th>\n",
       "      <th>sg_uf_not</th>\n",
       "      <th>id_municip</th>\n",
       "      <th>id_regiona</th>\n",
       "      <th>dt_diag</th>\n",
       "      <th>ano_nasc</th>\n",
       "      <th>nu_idade_n</th>\n",
       "      <th>...</th>\n",
       "      <th>agravdroga</th>\n",
       "      <th>agravtabac</th>\n",
       "      <th>test_molec</th>\n",
       "      <th>test_sensi</th>\n",
       "      <th>ant_retro</th>\n",
       "      <th>bac_apos_6</th>\n",
       "      <th>transf</th>\n",
       "      <th>uf_transf</th>\n",
       "      <th>mun_transf</th>\n",
       "      <th>idade</th>\n",
       "    </tr>\n",
       "  </thead>\n",
       "  <tbody>\n",
       "    <tr>\n",
       "      <th>0</th>\n",
       "      <td>2</td>\n",
       "      <td>A169</td>\n",
       "      <td>2013-11-29</td>\n",
       "      <td>2013.0</td>\n",
       "      <td>42</td>\n",
       "      <td>421010.0</td>\n",
       "      <td>NaN</td>\n",
       "      <td>2013-11-29</td>\n",
       "      <td>1955.0</td>\n",
       "      <td>4058.0</td>\n",
       "      <td>...</td>\n",
       "      <td>NaN</td>\n",
       "      <td>NaN</td>\n",
       "      <td>NaN</td>\n",
       "      <td>NaN</td>\n",
       "      <td>NaN</td>\n",
       "      <td>NaN</td>\n",
       "      <td>NaN</td>\n",
       "      <td>NaN</td>\n",
       "      <td>NaN</td>\n",
       "      <td>58.0</td>\n",
       "    </tr>\n",
       "    <tr>\n",
       "      <th>1</th>\n",
       "      <td>2</td>\n",
       "      <td>A169</td>\n",
       "      <td>2013-08-30</td>\n",
       "      <td>2013.0</td>\n",
       "      <td>42</td>\n",
       "      <td>420460.0</td>\n",
       "      <td>1558.0</td>\n",
       "      <td>2013-08-30</td>\n",
       "      <td>1987.0</td>\n",
       "      <td>4025.0</td>\n",
       "      <td>...</td>\n",
       "      <td>NaN</td>\n",
       "      <td>NaN</td>\n",
       "      <td>NaN</td>\n",
       "      <td>NaN</td>\n",
       "      <td>NaN</td>\n",
       "      <td>NaN</td>\n",
       "      <td>NaN</td>\n",
       "      <td>NaN</td>\n",
       "      <td>NaN</td>\n",
       "      <td>25.0</td>\n",
       "    </tr>\n",
       "    <tr>\n",
       "      <th>2</th>\n",
       "      <td>2</td>\n",
       "      <td>A169</td>\n",
       "      <td>2013-07-16</td>\n",
       "      <td>2013.0</td>\n",
       "      <td>41</td>\n",
       "      <td>410830.0</td>\n",
       "      <td>1363.0</td>\n",
       "      <td>2013-07-13</td>\n",
       "      <td>1937.0</td>\n",
       "      <td>4076.0</td>\n",
       "      <td>...</td>\n",
       "      <td>2.0</td>\n",
       "      <td>2.0</td>\n",
       "      <td>5.0</td>\n",
       "      <td>7</td>\n",
       "      <td>2.0</td>\n",
       "      <td>NaN</td>\n",
       "      <td>3.0</td>\n",
       "      <td>43.0</td>\n",
       "      <td>43.0</td>\n",
       "      <td>76.0</td>\n",
       "    </tr>\n",
       "    <tr>\n",
       "      <th>3</th>\n",
       "      <td>2</td>\n",
       "      <td>A169</td>\n",
       "      <td>2013-06-13</td>\n",
       "      <td>2013.0</td>\n",
       "      <td>31</td>\n",
       "      <td>311860.0</td>\n",
       "      <td>1449.0</td>\n",
       "      <td>2013-06-12</td>\n",
       "      <td>1945.0</td>\n",
       "      <td>4067.0</td>\n",
       "      <td>...</td>\n",
       "      <td>NaN</td>\n",
       "      <td>NaN</td>\n",
       "      <td>NaN</td>\n",
       "      <td>NaN</td>\n",
       "      <td>NaN</td>\n",
       "      <td>NaN</td>\n",
       "      <td>NaN</td>\n",
       "      <td>NaN</td>\n",
       "      <td>NaN</td>\n",
       "      <td>67.0</td>\n",
       "    </tr>\n",
       "    <tr>\n",
       "      <th>4</th>\n",
       "      <td>2</td>\n",
       "      <td>A169</td>\n",
       "      <td>2013-08-01</td>\n",
       "      <td>2013.0</td>\n",
       "      <td>25</td>\n",
       "      <td>250750.0</td>\n",
       "      <td>1377.0</td>\n",
       "      <td>2013-08-01</td>\n",
       "      <td>1977.0</td>\n",
       "      <td>4035.0</td>\n",
       "      <td>...</td>\n",
       "      <td>NaN</td>\n",
       "      <td>NaN</td>\n",
       "      <td>NaN</td>\n",
       "      <td>NaN</td>\n",
       "      <td>NaN</td>\n",
       "      <td>NaN</td>\n",
       "      <td>NaN</td>\n",
       "      <td>NaN</td>\n",
       "      <td>NaN</td>\n",
       "      <td>35.0</td>\n",
       "    </tr>\n",
       "  </tbody>\n",
       "</table>\n",
       "<p>5 rows × 98 columns</p>\n",
       "</div>"
      ],
      "text/plain": [
       "  tp_not id_agravo  dt_notific  nu_ano sg_uf_not  id_municip id_regiona  \\\n",
       "0      2      A169  2013-11-29  2013.0        42    421010.0        NaN   \n",
       "1      2      A169  2013-08-30  2013.0        42    420460.0     1558.0   \n",
       "2      2      A169  2013-07-16  2013.0        41    410830.0     1363.0   \n",
       "3      2      A169  2013-06-13  2013.0        31    311860.0     1449.0   \n",
       "4      2      A169  2013-08-01  2013.0        25    250750.0     1377.0   \n",
       "\n",
       "      dt_diag ano_nasc  nu_idade_n  ... agravdroga  agravtabac test_molec  \\\n",
       "0  2013-11-29   1955.0      4058.0  ...        NaN         NaN        NaN   \n",
       "1  2013-08-30   1987.0      4025.0  ...        NaN         NaN        NaN   \n",
       "2  2013-07-13   1937.0      4076.0  ...        2.0         2.0        5.0   \n",
       "3  2013-06-12   1945.0      4067.0  ...        NaN         NaN        NaN   \n",
       "4  2013-08-01   1977.0      4035.0  ...        NaN         NaN        NaN   \n",
       "\n",
       "   test_sensi ant_retro  bac_apos_6 transf  uf_transf mun_transf idade  \n",
       "0         NaN       NaN         NaN    NaN        NaN        NaN  58.0  \n",
       "1         NaN       NaN         NaN    NaN        NaN        NaN  25.0  \n",
       "2           7       2.0         NaN    3.0       43.0       43.0  76.0  \n",
       "3         NaN       NaN         NaN    NaN        NaN        NaN  67.0  \n",
       "4         NaN       NaN         NaN    NaN        NaN        NaN  35.0  \n",
       "\n",
       "[5 rows x 98 columns]"
      ]
     },
     "execution_count": 2,
     "metadata": {},
     "output_type": "execute_result"
    }
   ],
   "source": [
    "data = pd.read_csv(\"../data/2023_09_22_TUBE_BR.csv\")\n",
    "data.head()"
   ]
  },
  {
   "cell_type": "code",
   "execution_count": 3,
   "id": "e1db03a8-62f8-4ff1-b571-07d1a1421227",
   "metadata": {},
   "outputs": [],
   "source": [
    "def replace_dot(x):\n",
    "    if x == \".\":\n",
    "        return \"1\"\n",
    "    else:\n",
    "        return x\n",
    "data[\"tratamento\"] = data[\"tratamento\"].apply(lambda x: replace_dot(x))\n",
    "data[\"tratamento\"] = data[\"tratamento\"].astype(float)\n",
    "\n",
    "data[\"situa_ence\"] = data[\"situa_ence\"].apply(lambda x: replace_dot(x))\n",
    "data[\"situa_ence\"] = data[\"situa_ence\"].astype(float)"
   ]
  },
  {
   "cell_type": "code",
   "execution_count": 4,
   "id": "5e754fc7-902a-4f4e-8797-a14347057f7c",
   "metadata": {},
   "outputs": [
    {
     "data": {
      "text/html": [
       "<div>\n",
       "<style scoped>\n",
       "    .dataframe tbody tr th:only-of-type {\n",
       "        vertical-align: middle;\n",
       "    }\n",
       "\n",
       "    .dataframe tbody tr th {\n",
       "        vertical-align: top;\n",
       "    }\n",
       "\n",
       "    .dataframe thead th {\n",
       "        text-align: right;\n",
       "    }\n",
       "</style>\n",
       "<table border=\"1\" class=\"dataframe\">\n",
       "  <thead>\n",
       "    <tr style=\"text-align: right;\">\n",
       "      <th></th>\n",
       "      <th>cs_raca</th>\n",
       "      <th>cs_sexo</th>\n",
       "      <th>pop_imig</th>\n",
       "      <th>pop_rua</th>\n",
       "      <th>pop_saude</th>\n",
       "      <th>pop_liber</th>\n",
       "      <th>cs_gestant</th>\n",
       "      <th>situa_ence</th>\n",
       "      <th>cs_escol_n</th>\n",
       "      <th>hiv</th>\n",
       "      <th>...</th>\n",
       "      <th>histopatol</th>\n",
       "      <th>cultura_es</th>\n",
       "      <th>test_sensi</th>\n",
       "      <th>benef_gov</th>\n",
       "      <th>bacilosc_1</th>\n",
       "      <th>bacilosc_2</th>\n",
       "      <th>bacilosc_3</th>\n",
       "      <th>bacilosc_4</th>\n",
       "      <th>bacilosc_5</th>\n",
       "      <th>bacilosc_6</th>\n",
       "    </tr>\n",
       "  </thead>\n",
       "  <tbody>\n",
       "    <tr>\n",
       "      <th>0</th>\n",
       "      <td>0.0</td>\n",
       "      <td>1.0</td>\n",
       "      <td>NaN</td>\n",
       "      <td>NaN</td>\n",
       "      <td>NaN</td>\n",
       "      <td>NaN</td>\n",
       "      <td>0.0</td>\n",
       "      <td>Death</td>\n",
       "      <td>0.0</td>\n",
       "      <td>0.0</td>\n",
       "      <td>...</td>\n",
       "      <td>NaN</td>\n",
       "      <td>1.0</td>\n",
       "      <td>0.0</td>\n",
       "      <td>NaN</td>\n",
       "      <td>NaN</td>\n",
       "      <td>NaN</td>\n",
       "      <td>NaN</td>\n",
       "      <td>NaN</td>\n",
       "      <td>NaN</td>\n",
       "      <td>NaN</td>\n",
       "    </tr>\n",
       "    <tr>\n",
       "      <th>1</th>\n",
       "      <td>0.0</td>\n",
       "      <td>1.0</td>\n",
       "      <td>NaN</td>\n",
       "      <td>NaN</td>\n",
       "      <td>NaN</td>\n",
       "      <td>NaN</td>\n",
       "      <td>0.0</td>\n",
       "      <td>Cure</td>\n",
       "      <td>1.0</td>\n",
       "      <td>NaN</td>\n",
       "      <td>...</td>\n",
       "      <td>NaN</td>\n",
       "      <td>NaN</td>\n",
       "      <td>0.0</td>\n",
       "      <td>NaN</td>\n",
       "      <td>1.0</td>\n",
       "      <td>0.0</td>\n",
       "      <td>0.0</td>\n",
       "      <td>0.0</td>\n",
       "      <td>NaN</td>\n",
       "      <td>NaN</td>\n",
       "    </tr>\n",
       "    <tr>\n",
       "      <th>2</th>\n",
       "      <td>0.0</td>\n",
       "      <td>1.0</td>\n",
       "      <td>0.0</td>\n",
       "      <td>0.0</td>\n",
       "      <td>0.0</td>\n",
       "      <td>0.0</td>\n",
       "      <td>0.0</td>\n",
       "      <td>Cure</td>\n",
       "      <td>NaN</td>\n",
       "      <td>0.0</td>\n",
       "      <td>...</td>\n",
       "      <td>NaN</td>\n",
       "      <td>1.0</td>\n",
       "      <td>NaN</td>\n",
       "      <td>0.0</td>\n",
       "      <td>NaN</td>\n",
       "      <td>NaN</td>\n",
       "      <td>NaN</td>\n",
       "      <td>NaN</td>\n",
       "      <td>NaN</td>\n",
       "      <td>NaN</td>\n",
       "    </tr>\n",
       "    <tr>\n",
       "      <th>3</th>\n",
       "      <td>1.0</td>\n",
       "      <td>1.0</td>\n",
       "      <td>NaN</td>\n",
       "      <td>NaN</td>\n",
       "      <td>NaN</td>\n",
       "      <td>NaN</td>\n",
       "      <td>0.0</td>\n",
       "      <td>Cure</td>\n",
       "      <td>NaN</td>\n",
       "      <td>0.0</td>\n",
       "      <td>...</td>\n",
       "      <td>NaN</td>\n",
       "      <td>NaN</td>\n",
       "      <td>0.0</td>\n",
       "      <td>NaN</td>\n",
       "      <td>NaN</td>\n",
       "      <td>NaN</td>\n",
       "      <td>NaN</td>\n",
       "      <td>NaN</td>\n",
       "      <td>NaN</td>\n",
       "      <td>NaN</td>\n",
       "    </tr>\n",
       "    <tr>\n",
       "      <th>4</th>\n",
       "      <td>1.0</td>\n",
       "      <td>1.0</td>\n",
       "      <td>NaN</td>\n",
       "      <td>NaN</td>\n",
       "      <td>NaN</td>\n",
       "      <td>NaN</td>\n",
       "      <td>0.0</td>\n",
       "      <td>Treatment incomplete</td>\n",
       "      <td>0.0</td>\n",
       "      <td>0.0</td>\n",
       "      <td>...</td>\n",
       "      <td>NaN</td>\n",
       "      <td>NaN</td>\n",
       "      <td>0.0</td>\n",
       "      <td>NaN</td>\n",
       "      <td>0.0</td>\n",
       "      <td>NaN</td>\n",
       "      <td>NaN</td>\n",
       "      <td>NaN</td>\n",
       "      <td>NaN</td>\n",
       "      <td>NaN</td>\n",
       "    </tr>\n",
       "  </tbody>\n",
       "</table>\n",
       "<p>5 rows × 32 columns</p>\n",
       "</div>"
      ],
      "text/plain": [
       "   cs_raca  cs_sexo  pop_imig  pop_rua  pop_saude  pop_liber  cs_gestant  \\\n",
       "0      0.0      1.0       NaN      NaN        NaN        NaN         0.0   \n",
       "1      0.0      1.0       NaN      NaN        NaN        NaN         0.0   \n",
       "2      0.0      1.0       0.0      0.0        0.0        0.0         0.0   \n",
       "3      1.0      1.0       NaN      NaN        NaN        NaN         0.0   \n",
       "4      1.0      1.0       NaN      NaN        NaN        NaN         0.0   \n",
       "\n",
       "             situa_ence  cs_escol_n  hiv  ...  histopatol  cultura_es  \\\n",
       "0                 Death         0.0  0.0  ...         NaN         1.0   \n",
       "1                  Cure         1.0  NaN  ...         NaN         NaN   \n",
       "2                  Cure         NaN  0.0  ...         NaN         1.0   \n",
       "3                  Cure         NaN  0.0  ...         NaN         NaN   \n",
       "4  Treatment incomplete         0.0  0.0  ...         NaN         NaN   \n",
       "\n",
       "   test_sensi  benef_gov  bacilosc_1  bacilosc_2  bacilosc_3  bacilosc_4  \\\n",
       "0         0.0        NaN         NaN         NaN         NaN         NaN   \n",
       "1         0.0        NaN         1.0         0.0         0.0         0.0   \n",
       "2         NaN        0.0         NaN         NaN         NaN         NaN   \n",
       "3         0.0        NaN         NaN         NaN         NaN         NaN   \n",
       "4         0.0        NaN         0.0         NaN         NaN         NaN   \n",
       "\n",
       "  bacilosc_5  bacilosc_6  \n",
       "0        NaN         NaN  \n",
       "1        NaN         NaN  \n",
       "2        NaN         NaN  \n",
       "3        NaN         NaN  \n",
       "4        NaN         NaN  \n",
       "\n",
       "[5 rows x 32 columns]"
      ]
     },
     "execution_count": 4,
     "metadata": {},
     "output_type": "execute_result"
    }
   ],
   "source": [
    "#recode variables\n",
    "dictionary = {\n",
    "    \"cs_raca\": {1: 0, 2: 1, 3: 1, 4: 1, 5: 1}, #0 = white 1 = non white\n",
    "    \"cs_sexo\": {\"F\": 0, \"M\":1},\n",
    "    \n",
    "    \"pop_imig\" : {1: 1, 2: 0, 9 : np.nan},\n",
    "    \"pop_rua\": {1: 1, 2: 0, 9 : np.nan},\n",
    "    \"pop_saude\": {1: 1, 2: 0, 9 : np.nan},\n",
    "    \"pop_liber\": {1: 1, 2: 0, 9 : np.nan},\n",
    "    \"cs_gestant\": {1:1, 2:1, 3:1, 4:1, 5:0, 6:0, 9: np.nan},\n",
    "    \"situa_ence\": {1: \"Cure\", 2: \"Treatment incomplete\", 3: \"Death\", 4: \"Death\", 5: \"Transfer\", 6: \"Diagnostic change\",\n",
    "                   7: \"Regimen switch\", 8: \"Regimen switch\", 9: \"Failure\", 10: \"Treatment incomplete\"},\n",
    "    \"cs_escol_n\": {1: 0, 2:1, 3:1, 4:2, 5:2, 6:2, 7:3, 8:3},\n",
    "    \"hiv\": {1:1, 2:0},\n",
    "    \"agravdroga\": {1:1, 2:0},\n",
    "    \"agravtabac\": {1:1, 2:0},\n",
    "    \"agravalcoo\": {1:1, 2:0},\n",
    "    \"agravdiabe\": {1:1, 2:0},\n",
    "    \"agravdoenc\": {1:1, 2:0},\n",
    "    \"agravoutra\": {1:1, 2:0, 9:np.nan},\n",
    "    \"ant_retro\": {1:1, 2:0, 9 : np.nan},\n",
    "    \"tratamento\": {1: 0, 2: 1, 3: 1, 4: 0, 5: np.nan, 6: np.nan, np.nan: 0},\n",
    "    \"forma\": {1: \"PTB\", 2: \"EPTB\", 3: \"Booth\"},\n",
    "    \"raiox_tora\": {1: 1, 2:0},\n",
    "    \"tratsup_at\": {1: 1, 2:0}, #DOT 1 Yes 0 No\n",
    "    \"bacilosc_e\": {1: 1, 2: 0, 3:np.nan, 4: np.nan},\n",
    "    \"histopatol\": {1: 1, 2:0, 3: 0, 4: np.nan, 5:np.nan},\n",
    "    \"cultura_es\": {1: 1, 2:0, 3: np.nan, 4: np.nan},\n",
    "    \"test_sensi\": {1: 1, 2:1, 3: 1, 4: 1, 5: 0,\n",
    "                   6: 0, 7: 0, np.nan:0},\n",
    "    \"benef_gov\": {1: 1, 2: 0},\n",
    "    \"forma\": {1: \"Pulmonary\", 2: \"Extra-pulmonary\", 3: \"Booth\"},\n",
    "    \"bacilosc_1\": {1: 1, 2:0, 3: np.nan, 4: np.nan},\n",
    "    \"bacilosc_2\": {1: 1, 2:0, 3: np.nan, 4: np.nan},\n",
    "    \"bacilosc_3\": {1: 1, 2:0, 3: np.nan, 4: np.nan},\n",
    "    \"bacilosc_4\": {1: 1, 2:0, 3: np.nan, 4: np.nan},\n",
    "    \"bacilosc_5\": {1: 1, 2:0, 3: np.nan, 4: np.nan},\n",
    "    \"bacilosc_6\": {1: 1, 2:0, 3: np.nan, 4: np.nan},\n",
    "    }\n",
    "\n",
    "\n",
    "def encode_state(x):\n",
    "    if x in [11, 12, 13, 14, 15, 16, 17]:\n",
    "        return \"North\"\n",
    "    elif x in [21, 22, 23, 24, 25, 26, 27, 28, 29]:\n",
    "        return \"NorthEast\"\n",
    "    elif x in [31, 32, 33, 35]:\n",
    "        return \"SouthEast\"\n",
    "    elif x in [41, 42, 43]:\n",
    "        return \"South\"\n",
    "    elif x in [50, 51, 52, 53]:\n",
    "        return \"Central-west\"\n",
    "\n",
    "\n",
    "data[\"sg_uf_not\"] = data[\"sg_uf_not\"].apply(lambda x: encode_state(x))\n",
    "\n",
    "for col in data.columns:\n",
    "    if col in dictionary.keys():\n",
    "        data[col] = data[col].map(dictionary[col])\n",
    "data[dictionary.keys()].head()"
   ]
  },
  {
   "cell_type": "code",
   "execution_count": 5,
   "id": "96e0681b-64b4-49f9-96f6-15b813e2b2c3",
   "metadata": {},
   "outputs": [],
   "source": [
    "#compute time in SINAN for each group \n",
    "data[\"time_in_SINAN\"] = (pd.to_datetime(data[\"dt_encerra\"], errors = \"coerce\", format = \"%Y-%m-%d\") - \n",
    "                         pd.to_datetime(data[\"dt_inic_tr\"], errors = \"coerce\", format = \"%Y-%m-%d\")).dt.days"
   ]
  },
  {
   "cell_type": "code",
   "execution_count": 6,
   "id": "1f60b5b9-5d39-4f0d-b4c8-9e0636c8a947",
   "metadata": {},
   "outputs": [
    {
     "data": {
      "text/plain": [
       "743823"
      ]
     },
     "execution_count": 6,
     "metadata": {},
     "output_type": "execute_result"
    }
   ],
   "source": [
    "#remove data before 2020\n",
    "data.query(\"nu_ano >= 2015 and nu_ano <= 2022\", inplace = True)\n",
    "N =  data.shape[0]\n",
    "N"
   ]
  },
  {
   "cell_type": "code",
   "execution_count": 7,
   "id": "24b2a79b-0058-4b52-a646-a6af09bc8c65",
   "metadata": {},
   "outputs": [
    {
     "name": "stdout",
     "output_type": "stream",
     "text": [
      "39417\n"
     ]
    },
    {
     "data": {
      "text/plain": [
       "704406"
      ]
     },
     "execution_count": 7,
     "metadata": {},
     "output_type": "execute_result"
    }
   ],
   "source": [
    "data.query(\"idade >= 18\", inplace = True)\n",
    "lost = N -  data.shape[0]\n",
    "N = data.shape[0]\n",
    "print(lost)\n",
    "N"
   ]
  },
  {
   "cell_type": "code",
   "execution_count": 8,
   "id": "e495a0a5-b55d-40e1-b17f-ee80184ee15e",
   "metadata": {},
   "outputs": [
    {
     "name": "stdout",
     "output_type": "stream",
     "text": [
      "70125\n"
     ]
    },
    {
     "data": {
      "text/plain": [
       "634281"
      ]
     },
     "execution_count": 8,
     "metadata": {},
     "output_type": "execute_result"
    }
   ],
   "source": [
    "data.query(\"pop_imig == 0\", inplace = True)\n",
    "lost = N -  data.shape[0]\n",
    "N = data.shape[0]\n",
    "print(lost)\n",
    "N"
   ]
  },
  {
   "cell_type": "code",
   "execution_count": 9,
   "id": "ff1cbd59-f1e2-48cb-84e2-a53e49a40143",
   "metadata": {},
   "outputs": [
    {
     "name": "stdout",
     "output_type": "stream",
     "text": [
      "26417\n"
     ]
    },
    {
     "data": {
      "text/plain": [
       "607864"
      ]
     },
     "execution_count": 9,
     "metadata": {},
     "output_type": "execute_result"
    }
   ],
   "source": [
    "data.query(\"pop_rua == 0\", inplace = True)\n",
    "lost = N -  data.shape[0]\n",
    "N = data.shape[0]\n",
    "print(lost)\n",
    "N"
   ]
  },
  {
   "cell_type": "code",
   "execution_count": 10,
   "id": "27d305eb-51c9-4ebc-b7dd-5965bed87901",
   "metadata": {},
   "outputs": [
    {
     "name": "stdout",
     "output_type": "stream",
     "text": [
      "26675\n"
     ]
    },
    {
     "data": {
      "text/plain": [
       "581189"
      ]
     },
     "execution_count": 10,
     "metadata": {},
     "output_type": "execute_result"
    }
   ],
   "source": [
    "data.query(\"pop_saude == 0\", inplace = True)\n",
    "lost = N -  data.shape[0]\n",
    "N = data.shape[0]\n",
    "print(lost)\n",
    "N"
   ]
  },
  {
   "cell_type": "code",
   "execution_count": 11,
   "id": "a2aa6708-9bb6-4d4d-91ce-73fa93937400",
   "metadata": {},
   "outputs": [
    {
     "name": "stdout",
     "output_type": "stream",
     "text": [
      "69891\n"
     ]
    },
    {
     "data": {
      "text/plain": [
       "511298"
      ]
     },
     "execution_count": 11,
     "metadata": {},
     "output_type": "execute_result"
    }
   ],
   "source": [
    "data.query(\"cs_gestant == 0\", inplace = True)\n",
    "lost = N -  data.shape[0]\n",
    "N = data.shape[0]\n",
    "print(lost)\n",
    "N"
   ]
  },
  {
   "cell_type": "code",
   "execution_count": 12,
   "id": "146ec21d-7b3a-40d6-9b1f-0ff3f68812b4",
   "metadata": {},
   "outputs": [
    {
     "name": "stdout",
     "output_type": "stream",
     "text": [
      "59679\n"
     ]
    },
    {
     "data": {
      "text/plain": [
       "451619"
      ]
     },
     "execution_count": 12,
     "metadata": {},
     "output_type": "execute_result"
    }
   ],
   "source": [
    "data.query(\"pop_liber == 0\", inplace = True)\n",
    "lost = N -  data.shape[0]\n",
    "N = data.shape[0]\n",
    "print(lost)\n",
    "N"
   ]
  },
  {
   "cell_type": "code",
   "execution_count": 13,
   "id": "c24353cb-ee7e-4a66-8e98-66a4b84fdd65",
   "metadata": {},
   "outputs": [
    {
     "data": {
      "text/plain": [
       "forma\n",
       "Pulmonary          378238\n",
       "Extra-pulmonary     58981\n",
       "Booth               14395\n",
       "Name: count, dtype: int64"
      ]
     },
     "execution_count": 13,
     "metadata": {},
     "output_type": "execute_result"
    }
   ],
   "source": [
    "data[\"forma\"].value_counts()"
   ]
  },
  {
   "cell_type": "code",
   "execution_count": 14,
   "id": "a89a0969-28fe-404c-b860-3027b5717438",
   "metadata": {},
   "outputs": [
    {
     "name": "stdout",
     "output_type": "stream",
     "text": [
      "73381\n"
     ]
    },
    {
     "data": {
      "text/plain": [
       "378238"
      ]
     },
     "execution_count": 14,
     "metadata": {},
     "output_type": "execute_result"
    }
   ],
   "source": [
    "data.query(\"forma == 'Pulmonary'\", inplace = True)\n",
    "lost = N - data.shape[0]\n",
    "N = data.shape[0]\n",
    "print(lost)\n",
    "N"
   ]
  },
  {
   "cell_type": "code",
   "execution_count": 15,
   "id": "56581e4b-6de9-4910-934e-54ff311ff376",
   "metadata": {},
   "outputs": [
    {
     "name": "stdout",
     "output_type": "stream",
     "text": [
      "8827\n"
     ]
    },
    {
     "data": {
      "text/plain": [
       "369411"
      ]
     },
     "execution_count": 15,
     "metadata": {},
     "output_type": "execute_result"
    }
   ],
   "source": [
    "##### remo treatment resistent\n",
    "data.query(\"test_sensi == 0\", inplace = True)\n",
    "lost = N -  data.shape[0]\n",
    "N = data.shape[0]\n",
    "print(lost)\n",
    "N"
   ]
  },
  {
   "cell_type": "code",
   "execution_count": 16,
   "id": "c9958e71-503d-4e1e-acc1-34b7cc38034a",
   "metadata": {},
   "outputs": [
    {
     "name": "stdout",
     "output_type": "stream",
     "text": [
      "65688\n"
     ]
    },
    {
     "data": {
      "text/plain": [
       "303723"
      ]
     },
     "execution_count": 16,
     "metadata": {},
     "output_type": "execute_result"
    }
   ],
   "source": [
    "#remove time that make no sense\n",
    "data.query(\"time_in_SINAN >= 0 and time_in_SINAN <= 300\", inplace = True)\n",
    "lost = N -  data.shape[0]\n",
    "N = data.shape[0]\n",
    "print(lost)\n",
    "N"
   ]
  },
  {
   "cell_type": "code",
   "execution_count": 17,
   "id": "40352f81-6fe0-43f3-aa86-b969da460d2c",
   "metadata": {},
   "outputs": [
    {
     "data": {
      "text/plain": [
       "9440"
      ]
     },
     "execution_count": 17,
     "metadata": {},
     "output_type": "execute_result"
    }
   ],
   "source": [
    "sum(data[\"tratamento\"].isna())"
   ]
  },
  {
   "cell_type": "code",
   "execution_count": 18,
   "id": "3cfdfb41-d273-4ce4-a129-55a2b4731ecb",
   "metadata": {},
   "outputs": [
    {
     "name": "stdout",
     "output_type": "stream",
     "text": [
      "9440\n"
     ]
    },
    {
     "data": {
      "text/plain": [
       "294283"
      ]
     },
     "execution_count": 18,
     "metadata": {},
     "output_type": "execute_result"
    }
   ],
   "source": [
    "data = data[data[\"tratamento\"].isin([0, 1])]\n",
    "lost = N -  data.shape[0]\n",
    "N = data.shape[0]\n",
    "print(lost)\n",
    "N"
   ]
  },
  {
   "cell_type": "code",
   "execution_count": 19,
   "id": "5870645e-e520-4caf-9a50-f9729f080b06",
   "metadata": {},
   "outputs": [
    {
     "data": {
      "text/plain": [
       "1189"
      ]
     },
     "execution_count": 19,
     "metadata": {},
     "output_type": "execute_result"
    }
   ],
   "source": [
    "sum(data[\"situa_ence\"].isna())"
   ]
  },
  {
   "cell_type": "code",
   "execution_count": 20,
   "id": "d7863975-418a-4901-b3b5-850cf2c6fda6",
   "metadata": {},
   "outputs": [
    {
     "data": {
      "text/plain": [
       "situa_ence\n",
       "Cure                    202353\n",
       "Treatment incomplete     41373\n",
       "Death                    23823\n",
       "Transfer                 17118\n",
       "Diagnostic change         4312\n",
       "Regimen switch            3867\n",
       "Failure                    248\n",
       "Name: count, dtype: int64"
      ]
     },
     "execution_count": 20,
     "metadata": {},
     "output_type": "execute_result"
    }
   ],
   "source": [
    "data[\"situa_ence\"].value_counts()"
   ]
  },
  {
   "cell_type": "code",
   "execution_count": 21,
   "id": "d807121b-d273-45ea-9bda-1b56a87e2644",
   "metadata": {},
   "outputs": [
    {
     "name": "stdout",
     "output_type": "stream",
     "text": [
      "50557\n"
     ]
    },
    {
     "data": {
      "text/plain": [
       "243726"
      ]
     },
     "execution_count": 21,
     "metadata": {},
     "output_type": "execute_result"
    }
   ],
   "source": [
    "#data.query(\"situa_ence == 'Cure' or situa_ence == 'Death' or situa_ence == 'Treatment incomplete' or situa_ence == 'Failure'\", \n",
    "#           inplace = True)\n",
    "\n",
    "data.query(\"situa_ence == 'Cure'  or situa_ence == 'Treatment incomplete'\", inplace = True)\n",
    "lost = N -  data.shape[0]\n",
    "N = data.shape[0]\n",
    "print(lost)\n",
    "N"
   ]
  },
  {
   "cell_type": "code",
   "execution_count": 22,
   "id": "cf008a72-3c5d-41f8-b80f-38a094d387f5",
   "metadata": {},
   "outputs": [],
   "source": [
    "data[\"outcome\"] = data[\"situa_ence\"].apply(lambda x: 0 if x == \"Cure\" else 1)"
   ]
  },
  {
   "cell_type": "code",
   "execution_count": 23,
   "id": "57eb80b2-8516-4076-9931-71ef84a0f16a",
   "metadata": {},
   "outputs": [
    {
     "data": {
      "text/plain": [
       "outcome\n",
       "0    202353\n",
       "1     41373\n",
       "Name: count, dtype: int64"
      ]
     },
     "execution_count": 23,
     "metadata": {},
     "output_type": "execute_result"
    }
   ],
   "source": [
    "data[\"outcome\"].value_counts()"
   ]
  },
  {
   "cell_type": "code",
   "execution_count": 24,
   "id": "b72c6201-8774-40a0-926c-08a808092d00",
   "metadata": {},
   "outputs": [],
   "source": [
    "data.to_csv(\"../data/2023_10_09_Ml_python_data.csv\", index = False)"
   ]
  }
 ],
 "metadata": {
  "kernelspec": {
   "display_name": "Python 3 (ipykernel)",
   "language": "python",
   "name": "python3"
  },
  "language_info": {
   "codemirror_mode": {
    "name": "ipython",
    "version": 3
   },
   "file_extension": ".py",
   "mimetype": "text/x-python",
   "name": "python",
   "nbconvert_exporter": "python",
   "pygments_lexer": "ipython3",
   "version": "3.10.12"
  }
 },
 "nbformat": 4,
 "nbformat_minor": 5
}
