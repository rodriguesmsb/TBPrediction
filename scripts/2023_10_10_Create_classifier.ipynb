{
 "cells": [
  {
   "cell_type": "code",
   "execution_count": null,
   "id": "a2e4238f-53ab-4f89-8d58-af6a09214ae0",
   "metadata": {},
   "outputs": [],
   "source": [
    "import pandas as pd\n",
    "import numpy as np\n",
    "from sklearn.calibration import calibration_curve\n",
    "from sklearn.model_selection import GridSearchCV\n",
    "from sklearn.model_selection import RepeatedKFold, StratifiedKFold\n",
    "from sklearn.model_selection import train_test_split\n",
    "from sklearn.ensemble import RandomForestClassifier\n",
    "from sklearn.feature_selection import RFECV\n",
    "from sklearn.linear_model import LogisticRegression\n",
    "from sklearn.metrics import classification_report, roc_auc_score, RocCurveDisplay, confusion_matrix, roc_curve, auc\n",
    "from sklearn.impute import SimpleImputer\n",
    "from lightgbm import LGBMClassifier\n",
    "import matplotlib.lines as mlines\n",
    "import roc_utils as ru\n",
    "import itertools\n",
    "import warnings\n",
    "import matplotlib\n",
    "import matplotlib.pyplot as plt\n",
    "import matplotlib.gridspec as gridspec\n",
    "from mlxtend.plotting import plot_decision_regions\n",
    "import lightgbm.plotting as lgb_plotting\n",
    "import shap"
   ]
  },
  {
   "cell_type": "code",
   "execution_count": null,
   "id": "8346c149-3fff-4bac-8c00-d95017913b7f",
   "metadata": {},
   "outputs": [],
   "source": [
    "warnings.filterwarnings(action = 'ignore', category  = DeprecationWarning)\n",
    "matplotlib.rc('xtick', labelsize=20) \n",
    "matplotlib.rc('ytick', labelsize=20) "
   ]
  },
  {
   "cell_type": "code",
   "execution_count": null,
   "id": "c39413a4-bfef-4219-896b-fcd1cfb8d0e8",
   "metadata": {},
   "outputs": [],
   "source": [
    "def compute_roc_ci(y_true, probability, n_boot = 1000, show_plot = False):\n",
    "    y_true = y_true.values\n",
    "    y_pred = probability[:,1]\n",
    "    rng_seed = 42  # control reproducibility\n",
    "    bootstrapped_scores = []\n",
    "    fpr_values = []\n",
    "    tpr_values = []\n",
    "    rng = np.random.RandomState(rng_seed)\n",
    "\n",
    "    for i in range(n_boot):\n",
    "         indices = rng.randint(0, len(y_true), len(y_true))\n",
    "         score = roc_auc_score(y_true[indices], y_pred[indices])\n",
    "         fpr, tpr, _ = roc_curve(y_true[indices],  y_pred[indices])\n",
    "         fpr_values.append(fpr)\n",
    "         tpr_values.append(tpr)\n",
    "         bootstrapped_scores.append(score)\n",
    "  \n",
    "    sorted_scores = np.array(bootstrapped_scores)\n",
    "    sorted_scores.sort()\n",
    "    confidence_lower = sorted_scores[int(0.05 * len(sorted_scores))]\n",
    "    confidence_upper = sorted_scores[int(0.95 * len(sorted_scores))]\n",
    "    mean = np.mean(np.array(bootstrapped_scores))\n",
    "    if show_plot:\n",
    "        roc_auc = auc(fpr, tpr)\n",
    "        display = RocCurveDisplay(fpr = fpr, tpr = tpr, roc_auc = roc_auc) \n",
    "        display.plot()\n",
    "    return [round(confidence_lower,2), round(mean,2), round(confidence_upper,2)]\n",
    "\n",
    "def compute_metrics(true_positive, false_positive, true_negative, false_negative):\n",
    "\n",
    "    print(\"Accuracy {}\".format(round((true_positive + true_negative)/(true_positive + false_negative + false_positive + true_negative),2)))\n",
    "    print(\"Sensitivity {}\".format(round(true_positive/(true_positive + false_negative),2)))\n",
    "    print(\"Specificity {}\".format(round(true_negative/(true_negative + false_positive),2)))\n",
    "    \n",
    "    print(\"PPV {}\".format(round(true_positive/(true_positive + false_positive),2)))\n",
    "    print(\"PNV {}\".format(round(true_negative/(true_negative + false_negative),2)))\n",
    "    \n",
    "    \n",
    "class ShapInput(object):\n",
    "    def __init__(self, expectation, shap_values, features, feat_names):\n",
    "        self.base_values = expectation\n",
    "        self.values = shap_values\n",
    "        self.data = features\n",
    "        self.feature_names = feat_names\n",
    " "
   ]
  },
  {
   "cell_type": "code",
   "execution_count": null,
   "id": "5474ffb3-7572-4bde-902e-baaf44f07ae8",
   "metadata": {},
   "outputs": [],
   "source": [
    "columns_to_use = [\"cs_raca\", \"cs_sexo\", \"cs_escol_n\", \"hiv\", \"agravdroga\", \"agravtabac\", \"agravalcoo\", \"agravdiabe\", \n",
    "                  \"agravdoenc\",\"agravoutra\", \"ant_retro\", \"tratamento\", \"raiox_tora\", \"bacilosc_e\", \"histopatol\", \n",
    "                  \"cultura_es\", \"test_sensi\", \"benef_gov\", \"idade\", \"outcome\"]\n",
    "data = pd.read_csv(\"../data/2023_10_09_Ml_python_data.csv\", usecols = columns_to_use)\n",
    "data.head()"
   ]
  },
  {
   "cell_type": "code",
   "execution_count": null,
   "id": "b39e9c57-e82e-46b5-863c-1032ef245941",
   "metadata": {},
   "outputs": [],
   "source": [
    "#compute missing proportion\n",
    "cols = []\n",
    "value = []\n",
    "cols_to_remove = []\n",
    "for col in columns_to_use:\n",
    "    miss_prop = data[col].isna().sum()/data.shape[0]\n",
    "    cols.append(col)\n",
    "    value.append(miss_prop)\n",
    "    print(\"{} missing proportion {}\".format(col, miss_prop))\n",
    "    if miss_prop > 0.35:\n",
    "        cols_to_remove.append(col) \n",
    "    \n",
    "\n",
    "cols_to_remove"
   ]
  },
  {
   "cell_type": "code",
   "execution_count": null,
   "id": "f455d6d6-776a-42a2-99c3-16968ae9911f",
   "metadata": {},
   "outputs": [],
   "source": [
    "#remove columns with more than 35% missing\n",
    "data.drop(columns = cols_to_remove, inplace = True)"
   ]
  },
  {
   "cell_type": "code",
   "execution_count": null,
   "id": "c9a2f46e-5481-47d4-a9be-bb417484b063",
   "metadata": {},
   "outputs": [],
   "source": [
    "cat_cols = [col for col in columns_to_use if col not in cols_to_remove and col not in [\"idade\", \"time_in_SINAN\"]]\n",
    "num_cols = [\"idade\"]"
   ]
  },
  {
   "cell_type": "code",
   "execution_count": null,
   "id": "b40f3af6-ebb3-4267-8ef8-e47817f28376",
   "metadata": {},
   "outputs": [],
   "source": [
    "#df = df.drop(columns = [\"multiclass_task\"])\n",
    "cure = data[data[\"outcome\"] == 0]\n",
    "unsc = data[data[\"outcome\"] == 1]\n",
    "cure = cure.sample(n = len(unsc), random_state = 42)\n",
    "data = pd.concat([cure, unsc])"
   ]
  },
  {
   "cell_type": "code",
   "execution_count": null,
   "id": "c1b47710-1527-4a6e-82a8-fd5b7ffcfaf5",
   "metadata": {},
   "outputs": [],
   "source": [
    "#create age cat\n",
    "bins = pd.IntervalIndex.from_tuples([(0, 18), (18, 35), (35, 50),(50,65),(80,120)])\n",
    "data[\"idade\"] = pd.cut(data[\"idade\"], bins)\n",
    "data = pd.get_dummies(data, columns = [\"idade\"], dtype = float)\n",
    "data.head()"
   ]
  },
  {
   "cell_type": "code",
   "execution_count": null,
   "id": "2b275ea7-7094-4e57-9230-5ab2c4c7b9b3",
   "metadata": {},
   "outputs": [],
   "source": [
    "data.rename(columns = {\"idade_(0, 18]\":\"Teenage\", \"idade_(18, 35]\":\"Adult\", \"idade_(35, 50]\":\"Mild_age\",\n",
    "                       \"idade_(50, 65]\":\"Older\", \"idade_(80, 120]\":\"Elder\"}, inplace = True)"
   ]
  },
  {
   "cell_type": "code",
   "execution_count": null,
   "id": "bc2f7d33-999a-4e99-839a-3f856872a416",
   "metadata": {},
   "outputs": [],
   "source": [
    "cat_cols = [col for col in data.columns if col not in [\"outcome\"]]\n",
    "#features = data[features]\n",
    "features = data[cat_cols]\n",
    "target = data[\"outcome\"]"
   ]
  },
  {
   "cell_type": "code",
   "execution_count": null,
   "id": "df6f812c-f5ec-4eb6-8514-e679be45abc9",
   "metadata": {},
   "outputs": [],
   "source": [
    "#split data into train and test\n",
    "X_train, X_test, y_train, y_test = train_test_split(features, target, test_size = 0.3, random_state = 42)"
   ]
  },
  {
   "cell_type": "code",
   "execution_count": null,
   "id": "569c3a4a-ad68-4e23-a203-ca194e27a27d",
   "metadata": {},
   "outputs": [],
   "source": [
    "print(\"Train set {}\".format(X_train.shape[0]))\n",
    "print(\"Test set {}\".format(X_test.shape[0]))     "
   ]
  },
  {
   "cell_type": "code",
   "execution_count": null,
   "id": "6063f3b8-5dfb-411f-94f6-0b5261f15fdb",
   "metadata": {},
   "outputs": [],
   "source": [
    "#perform imputation\n",
    "cat_imputer = SimpleImputer(strategy = 'most_frequent', missing_values = np.nan)\n",
    "for col in cat_cols:\n",
    "    cat_imputer.fit(X_train[[col]])\n",
    "    X_train[col] = cat_imputer.transform(X_train[[col]])\n",
    "    \n",
    "    \n",
    "# #imput numerical col\n",
    "# num_imputer = SimpleImputer(strategy = 'median', missing_values = np.nan)\n",
    "# for col in num_cols:\n",
    "#     num_imputer.fit(X_train[[col]])\n",
    "#     X_train[col] = num_imputer.transform(X_train[[col]])\n",
    "    \n",
    "    \n",
    "cat_imputer = SimpleImputer(strategy = 'most_frequent', missing_values = np.nan)\n",
    "for col in cat_cols:\n",
    "    cat_imputer.fit(X_test[[col]])\n",
    "    X_test[col] = cat_imputer.transform(X_test[[col]])\n",
    "    \n",
    "    \n",
    "# #imput numerical col\n",
    "# num_imputer = SimpleImputer(strategy = 'median', missing_values = np.nan)\n",
    "# for col in num_cols:\n",
    "#     num_imputer.fit(X_test[[col]])\n",
    "#     X_test[col] = num_imputer.transform(X_test[[col]])"
   ]
  },
  {
   "cell_type": "code",
   "execution_count": null,
   "id": "b7f5837d-612b-45cf-a361-cef4155f6957",
   "metadata": {},
   "outputs": [],
   "source": [
    "X_train.head()"
   ]
  },
  {
   "cell_type": "code",
   "execution_count": null,
   "id": "675ca20e-6b06-4293-aa80-5b843644305c",
   "metadata": {},
   "outputs": [],
   "source": [
    "repeated_cv = RepeatedKFold(n_splits = 10, n_repeats = 10, random_state = 42)"
   ]
  },
  {
   "cell_type": "code",
   "execution_count": null,
   "id": "0b2fbb79-1a84-4e3b-85d3-b5e8d006a90b",
   "metadata": {},
   "outputs": [],
   "source": [
    "#define calssifier\n",
    "rf_classifier = RandomForestClassifier(\n",
    "    random_state = 42)\n",
    "\n",
    "lightgbm_classifier = LGBMClassifier(\n",
    "    random_state = 42)\n",
    "\n",
    "log_reg = LogisticRegression(\n",
    "    max_iter = 5000, \n",
    "    random_state = 42)"
   ]
  },
  {
   "cell_type": "code",
   "execution_count": null,
   "id": "baa42eca-3532-4c0c-8734-9a0d274ace71",
   "metadata": {},
   "outputs": [],
   "source": [
    "estimator = RandomForestClassifier(random_state=42)\n",
    "rfecv = RFECV(estimator= estimator, cv = StratifiedKFold(n_splits = 10, random_state = 42, shuffle=True), scoring = \"roc_auc\", n_jobs = 20)\n",
    "rfecv.fit(X_train, y_train)"
   ]
  },
  {
   "cell_type": "code",
   "execution_count": null,
   "id": "70357154-c909-44be-8348-98c224b2925a",
   "metadata": {},
   "outputs": [],
   "source": [
    "plt.figure(figsize=(10, 10))\n",
    "plt.plot(range(1, len(rfecv.cv_results_['mean_test_score'])+1), rfecv.cv_results_['mean_test_score'])\n",
    "plt.grid()\n",
    "plt.xticks(range(1, X_train.shape[1]+1))\n",
    "plt.xlabel(\"Number of Selected Features\")\n",
    "plt.ylabel(\"CV Score\")\n",
    "plt.title(\"Recursive Feature Elimination (RFE)\")\n",
    "plt.savefig(\"../results/Feature_Selection.pdf\")\n",
    "print(\"The optimal number of features: {}\".format(rfecv.n_features_))"
   ]
  },
  {
   "cell_type": "code",
   "execution_count": null,
   "id": "0bb3749e-9f4e-4801-b991-0f0c552fa22c",
   "metadata": {},
   "outputs": [],
   "source": [
    "X_train = X_train.iloc[:, rfecv.support_]"
   ]
  },
  {
   "cell_type": "code",
   "execution_count": null,
   "id": "9b1f7480-287b-418a-8ffd-cf6f2238c26e",
   "metadata": {},
   "outputs": [],
   "source": [
    "X_train.head()"
   ]
  },
  {
   "cell_type": "code",
   "execution_count": null,
   "id": "d2f8c21c-4c4f-470b-a859-70a194bd84c7",
   "metadata": {},
   "outputs": [],
   "source": [
    "X_test = X_test.iloc[:, rfecv.support_]"
   ]
  },
  {
   "cell_type": "code",
   "execution_count": null,
   "id": "65d44eaa-1962-47eb-a93c-113cd713620e",
   "metadata": {},
   "outputs": [],
   "source": [
    "X_test.head()"
   ]
  },
  {
   "cell_type": "code",
   "execution_count": null,
   "id": "d9dc6683-760d-4863-b09b-b0f6a65dfe85",
   "metadata": {},
   "outputs": [],
   "source": [
    "n_estimators = [100,200,500,1000]\n",
    "max_depth = [4,6,8,12]\n",
    "learning_rate = [0.3,0.2,0.1,0.01,0.001]\n",
    "C = [100, 10, 1.0, 0.1, 0.01]"
   ]
  },
  {
   "cell_type": "code",
   "execution_count": null,
   "id": "84354163-0b28-46ac-be06-7e770be70ab3",
   "metadata": {},
   "outputs": [],
   "source": [
    "for classifier in [\"lr\", \"rf\", \"light\"]:\n",
    "    print(\"Run: {}\".format(classifier))\n",
    "    if classifier == \"rf\":\n",
    "        \n",
    "        #train part\n",
    "        model_to_fit_rf = GridSearchCV(rf_classifier, \n",
    "                                    param_grid = {\"n_estimators\":[est for est in n_estimators if est <=500] , \"max_depth\": max_depth}, \n",
    "                                    cv = repeated_cv, \n",
    "                                    n_jobs = 30, \n",
    "                                    scoring = \"accuracy\")\n",
    "        \n",
    "        model_to_fit_rf.fit(X_train, y_train)\n",
    "        \n",
    "        #predicting part\n",
    "        pred_rf = model_to_fit_rf.predict(X_test)\n",
    "        predicted_proba_rf =  model_to_fit_rf.predict_proba(X_test)\n",
    "        best_params_rf =  model_to_fit_rf.best_params_\n",
    "        \n",
    "\n",
    "        \n",
    "    elif classifier == \"light\":\n",
    "        \n",
    "        #train part\n",
    "        model_to_fit_lgb = GridSearchCV(lightgbm_classifier, \n",
    "                                    param_grid = {\"n_estimators\": n_estimators, \"max_depth\":max_depth, \"learning_rate\": learning_rate}, \n",
    "                                    cv = repeated_cv, \n",
    "                                    n_jobs = 28, \n",
    "                                    scoring = \"accuracy\")\n",
    "        \n",
    "        model_to_fit_lgb.fit(X_train,y_train)\n",
    "        \n",
    "        #predicting part\n",
    "        pred_lgb = model_to_fit_lgb.predict(X_test)\n",
    "        predicted_proba_lgb = model_to_fit_lgb.predict_proba(X_test)\n",
    "        best_params_lgb = model_to_fit_lgb.best_params_\n",
    "        \n",
    "    elif classifier == \"lr\":\n",
    "        model_to_fit_lr = GridSearchCV(log_reg, \n",
    "                                    param_grid = {\"C\":C}, \n",
    "                                    cv = repeated_cv, \n",
    "                                    n_jobs = 28, \n",
    "                                    scoring = \"accuracy\")\n",
    "        \n",
    "        model_to_fit_lr.fit(X_train, y_train)\n",
    "        \n",
    "        pred_lr = model_to_fit_lr.predict(X_test)\n",
    "        predicted_proba_lr = model_to_fit_lr.predict_proba(X_test)\n",
    "        best_params_lr = model_to_fit_lr.best_params_"
   ]
  },
  {
   "cell_type": "code",
   "execution_count": null,
   "id": "c775c4fb-c688-4703-bb7b-97d61bf770c4",
   "metadata": {},
   "outputs": [],
   "source": [
    "print(\"Logistic Regression {}\".format(best_params_lr))\n",
    "print(\"Random Forest {}\".format(best_params_rf))\n",
    "print(\"LightGradientBoosting {}\".format(best_params_lgb))"
   ]
  },
  {
   "cell_type": "code",
   "execution_count": null,
   "id": "07830072-0570-4dc2-b425-d1d1bc054f25",
   "metadata": {},
   "outputs": [],
   "source": [
    "tn, fp, fn, tp = confusion_matrix(y_true = y_test, y_pred = pred_lr).ravel()\n",
    "compute_metrics(true_positive = tp, false_positive = fp, true_negative = tn, false_negative = fn)\n",
    "print(compute_roc_ci(y_true = y_test, probability = predicted_proba_lr, n_boot = 1000, show_plot = True))"
   ]
  },
  {
   "cell_type": "code",
   "execution_count": null,
   "id": "7973b478-ca98-4c55-835f-465873b740c1",
   "metadata": {},
   "outputs": [],
   "source": [
    "tn, fp, fn, tp = confusion_matrix(y_true = y_test, y_pred = pred_rf).ravel()\n",
    "compute_metrics(true_positive = tp, false_positive = fp, true_negative = tn, false_negative = fn)\n",
    "print(compute_roc_ci(y_true = y_test, probability = predicted_proba_rf, n_boot = 1000, show_plot = True))"
   ]
  },
  {
   "cell_type": "code",
   "execution_count": null,
   "id": "335db1a4-2781-4fed-97b8-766009a5197c",
   "metadata": {},
   "outputs": [],
   "source": [
    "tn, fp, fn, tp = confusion_matrix(y_true = y_test, y_pred = pred_lgb).ravel()\n",
    "compute_metrics(true_positive = tp, false_positive = fp, true_negative = tn, false_negative = fn)\n",
    "print(compute_roc_ci(y_true = y_test, probability = predicted_proba_lgb, n_boot = 1000, show_plot = True))"
   ]
  },
  {
   "cell_type": "code",
   "execution_count": null,
   "id": "f1a09eb5-cea9-41b1-b669-00f3f6cdef78",
   "metadata": {},
   "outputs": [],
   "source": [
    "#calibration plot\n",
    "prob_y, prob_x = calibration_curve(y_true = y_test, y_prob = predicted_proba_lgb[:,1], n_bins = 10)\n",
    "fig, ax = plt.subplots()\n",
    "fig.set_figheight(10)\n",
    "fig.set_figwidth(10)\n",
    "plt.plot(prob_x, prob_y, marker = 'o', linewidth = 2, label = \"rf\")\n",
    "lines = mlines.Line2D([0,1],[0,1], color = \"black\", linewidth = 2)\n",
    "transform = ax.transAxes\n",
    "lines.set_transform(transform)\n",
    "ax.add_line(lines)\n",
    "ax.set_xlabel(\"Predicted probability\", fontsize = 32)\n",
    "ax.set_ylabel(\"Observerd probability\", fontsize = 32)\n",
    "plt.savefig(\"../results/Calibration_plot_LGB.pdf\")"
   ]
  },
  {
   "cell_type": "code",
   "execution_count": null,
   "id": "53f1349f-7055-45bf-ad2b-9ff9da4e3cbe",
   "metadata": {},
   "outputs": [],
   "source": [
    "#calibration plot\n",
    "prob_y, prob_x = calibration_curve(y_true = y_test, y_prob = predicted_proba_rf[:,1], n_bins = 10)\n",
    "fig, ax = plt.subplots()\n",
    "fig.set_figheight(10)\n",
    "fig.set_figwidth(10)\n",
    "plt.plot(prob_x, prob_y, marker = 'o', linewidth = 2, label = \"rf\")\n",
    "lines = mlines.Line2D([0,1],[0,1], color = \"black\", linewidth = 2)\n",
    "transform = ax.transAxes\n",
    "lines.set_transform(transform)\n",
    "ax.add_line(lines)\n",
    "ax.set_xlabel(\"Predicted probability\", fontsize = 32)\n",
    "ax.set_ylabel(\"Observerd probability\", fontsize = 32)\n",
    "plt.savefig(\"../results/Calibration_plot_RF.pdf\")"
   ]
  },
  {
   "cell_type": "code",
   "execution_count": null,
   "id": "6445f17a-d4f5-4296-9553-026b6cbb96b9",
   "metadata": {
    "scrolled": true
   },
   "outputs": [],
   "source": [
    "#calibration plot\n",
    "prob_y, prob_x = calibration_curve(y_true = y_test, y_prob = predicted_proba_lr[:,1], n_bins = 10)\n",
    "fig, ax = plt.subplots()\n",
    "fig.set_figheight(10)\n",
    "fig.set_figwidth(10)\n",
    "plt.plot(prob_x, prob_y, marker = 'o', linewidth = 2, label = \"rf\")\n",
    "lines = mlines.Line2D([0,1],[0,1], color = \"black\", linewidth = 2)\n",
    "transform = ax.transAxes\n",
    "lines.set_transform(transform)\n",
    "ax.add_line(lines)\n",
    "ax.set_xlabel(\"Predicted probability\", fontsize = 32)\n",
    "ax.set_ylabel(\"Observerd probability\", fontsize = 32)\n",
    "plt.savefig(\"../results/Calibration_plot_LR.pdf\")"
   ]
  },
  {
   "cell_type": "code",
   "execution_count": null,
   "id": "cf97865e-2f1d-4211-affd-091b4290b863",
   "metadata": {},
   "outputs": [],
   "source": [
    "binary_explainer = shap.TreeExplainer(model_to_fit_lgb.best_estimator_.booster_, X_test, model_output = \"probability\")\n",
    "binary_shap_values = binary_explainer.shap_values(X_test)"
   ]
  },
  {
   "cell_type": "code",
   "execution_count": null,
   "id": "3476959a-b729-4900-9377-f73afb48e75d",
   "metadata": {},
   "outputs": [],
   "source": [
    "plt.figure(figsize = (20,12))\n",
    "plt.subplot(1,2,1)\n",
    "shap.summary_plot(binary_shap_values, X_test, plot_type = \"bar\", plot_size = None, show=False)\n",
    "ax = plt.gca()\n",
    "ax.tick_params(axis = 'both', labelsize = 32)\n",
    "plt.xlabel('Mean(|SHAP value|)', fontsize = 32)\n",
    "plt.subplot(1,2,2)\n",
    "shap.summary_plot(binary_shap_values, X_test, plot_size=None, show=False)\n",
    "ax = plt.gca()\n",
    "ax.tick_params(axis = 'both', labelsize = 32)\n",
    "plt.xlabel('SHAP value', fontsize = 32)\n",
    "ax.set_yticklabels([])\n",
    "plt.tight_layout()\n",
    "plt.savefig('../results/Fig_2_Binary_result.pdf')"
   ]
  },
  {
   "cell_type": "code",
   "execution_count": null,
   "id": "cde30baf-5308-4c32-8588-51e4c3e098b9",
   "metadata": {},
   "outputs": [],
   "source": [
    "print(\"Done\")"
   ]
  }
 ],
 "metadata": {
  "kernelspec": {
   "display_name": "Python 3 (ipykernel)",
   "language": "python",
   "name": "python3"
  },
  "language_info": {
   "codemirror_mode": {
    "name": "ipython",
    "version": 3
   },
   "file_extension": ".py",
   "mimetype": "text/x-python",
   "name": "python",
   "nbconvert_exporter": "python",
   "pygments_lexer": "ipython3",
   "version": "3.10.12"
  }
 },
 "nbformat": 4,
 "nbformat_minor": 5
}
